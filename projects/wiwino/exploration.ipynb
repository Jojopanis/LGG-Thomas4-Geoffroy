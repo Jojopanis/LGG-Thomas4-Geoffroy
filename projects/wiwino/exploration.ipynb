{
 "cells": [
  {
   "cell_type": "code",
   "execution_count": 21,
   "metadata": {},
   "outputs": [
    {
     "name": "stdout",
     "output_type": "stream",
     "text": [
      "The sql extension is already loaded. To reload it, use:\n",
      "  %reload_ext sql\n"
     ]
    }
   ],
   "source": [
    "%load_ext sql"
   ]
  },
  {
   "cell_type": "code",
   "execution_count": 22,
   "metadata": {},
   "outputs": [],
   "source": [
    "%sql sqlite:///db/vivino.db"
   ]
  },
  {
   "cell_type": "code",
   "execution_count": 23,
   "metadata": {},
   "outputs": [
    {
     "data": {
      "text/html": [
       "<span style=\"None\">displaylimit: Value None will be treated as 0 (no limit)</span>"
      ],
      "text/plain": [
       "displaylimit: Value None will be treated as 0 (no limit)"
      ]
     },
     "metadata": {},
     "output_type": "display_data"
    }
   ],
   "source": [
    "%config SqlMagic.displaylimit = None"
   ]
  },
  {
   "cell_type": "code",
   "execution_count": 24,
   "metadata": {},
   "outputs": [
    {
     "data": {
      "text/html": [
       "<span style=\"None\">Running query in &#x27;sqlite:///db/vivino.db&#x27;</span>"
      ],
      "text/plain": [
       "Running query in 'sqlite:///db/vivino.db'"
      ]
     },
     "metadata": {},
     "output_type": "display_data"
    },
    {
     "data": {
      "text/html": [
       "<table>\n",
       "    <thead>\n",
       "        <tr>\n",
       "            <th>name</th>\n",
       "            <th>ratings_average</th>\n",
       "        </tr>\n",
       "    </thead>\n",
       "    <tbody>\n",
       "        <tr>\n",
       "            <td>Amarone della Valpolicella Classico Riserva</td>\n",
       "            <td>4.8</td>\n",
       "        </tr>\n",
       "        <tr>\n",
       "            <td>Cabernet Sauvignon</td>\n",
       "            <td>4.8</td>\n",
       "        </tr>\n",
       "        <tr>\n",
       "            <td>Mágico</td>\n",
       "            <td>4.8</td>\n",
       "        </tr>\n",
       "        <tr>\n",
       "            <td>Fratini Bolgheri Superiore</td>\n",
       "            <td>4.8</td>\n",
       "        </tr>\n",
       "        <tr>\n",
       "            <td>Cristal Rosé Vinothèque</td>\n",
       "            <td>4.8</td>\n",
       "        </tr>\n",
       "        <tr>\n",
       "            <td>Batard-Montrachet Grand Cru</td>\n",
       "            <td>4.8</td>\n",
       "        </tr>\n",
       "        <tr>\n",
       "            <td>IX Estate Red</td>\n",
       "            <td>4.7</td>\n",
       "        </tr>\n",
       "        <tr>\n",
       "            <td>Special Selection Cabernet Sauvignon</td>\n",
       "            <td>4.7</td>\n",
       "        </tr>\n",
       "        <tr>\n",
       "            <td>Unico Reserva Especial Edición</td>\n",
       "            <td>4.7</td>\n",
       "        </tr>\n",
       "        <tr>\n",
       "            <td>Unico</td>\n",
       "            <td>4.7</td>\n",
       "        </tr>\n",
       "    </tbody>\n",
       "</table>"
      ],
      "text/plain": [
       "+---------------------------------------------+-----------------+\n",
       "|                     name                    | ratings_average |\n",
       "+---------------------------------------------+-----------------+\n",
       "| Amarone della Valpolicella Classico Riserva |       4.8       |\n",
       "|              Cabernet Sauvignon             |       4.8       |\n",
       "|                    Mágico                   |       4.8       |\n",
       "|          Fratini Bolgheri Superiore         |       4.8       |\n",
       "|           Cristal Rosé Vinothèque           |       4.8       |\n",
       "|         Batard-Montrachet Grand Cru         |       4.8       |\n",
       "|                IX Estate Red                |       4.7       |\n",
       "|     Special Selection Cabernet Sauvignon    |       4.7       |\n",
       "|        Unico Reserva Especial Edición       |       4.7       |\n",
       "|                    Unico                    |       4.7       |\n",
       "+---------------------------------------------+-----------------+"
      ]
     },
     "execution_count": 24,
     "metadata": {},
     "output_type": "execute_result"
    }
   ],
   "source": [
    "%%sql\n",
    "\n",
    "SELECT\n",
    "    name,\n",
    "    ratings_average\n",
    "FROM\n",
    "    wines\n",
    "ORDER BY\n",
    "    ratings_average DESC\n",
    "LIMIT 10;"
   ]
  },
  {
   "cell_type": "code",
   "execution_count": 25,
   "metadata": {},
   "outputs": [
    {
     "data": {
      "text/html": [
       "<span style=\"None\">Running query in &#x27;sqlite:///db/vivino.db&#x27;</span>"
      ],
      "text/plain": [
       "Running query in 'sqlite:///db/vivino.db'"
      ]
     },
     "metadata": {},
     "output_type": "display_data"
    },
    {
     "data": {
      "text/html": [
       "<table>\n",
       "    <thead>\n",
       "        <tr>\n",
       "            <th>name</th>\n",
       "        </tr>\n",
       "    </thead>\n",
       "    <tbody>\n",
       "        <tr>\n",
       "            <td>États-Unis</td>\n",
       "        </tr>\n",
       "        <tr>\n",
       "            <td>Suisse</td>\n",
       "        </tr>\n",
       "        <tr>\n",
       "            <td>Portugal</td>\n",
       "        </tr>\n",
       "    </tbody>\n",
       "</table>"
      ],
      "text/plain": [
       "+------------+\n",
       "|    name    |\n",
       "+------------+\n",
       "| États-Unis |\n",
       "|   Suisse   |\n",
       "|  Portugal  |\n",
       "+------------+"
      ]
     },
     "execution_count": 25,
     "metadata": {},
     "output_type": "execute_result"
    }
   ],
   "source": [
    "%%sql\n",
    "\n",
    "SELECT\n",
    "    countries.name\n",
    "FROM\n",
    "    countries\n",
    "JOIN\n",
    "    toplists ON countries.code = toplists.country_code,\n",
    "    vintage_toplists_rankings ON toplists.id = vintage_toplists_rankings.top_list_id\n",
    "GROUP BY\n",
    "    countries.name\n",
    "ORDER BY\n",
    "    vintage_toplists_rankings.rank DESC\n",
    "LIMIT 3;"
   ]
  },
  {
   "cell_type": "code",
   "execution_count": 26,
   "metadata": {},
   "outputs": [
    {
     "data": {
      "text/html": [
       "<span style=\"None\">Running query in &#x27;sqlite:///db/vivino.db&#x27;</span>"
      ],
      "text/plain": [
       "Running query in 'sqlite:///db/vivino.db'"
      ]
     },
     "metadata": {},
     "output_type": "display_data"
    },
    {
     "data": {
      "text/html": [
       "<table>\n",
       "    <thead>\n",
       "        <tr>\n",
       "            <th>id</th>\n",
       "            <th>name</th>\n",
       "            <th>id_1</th>\n",
       "            <th>name_1</th>\n",
       "            <th>is_natural</th>\n",
       "            <th>region_id</th>\n",
       "            <th>winery_id</th>\n",
       "            <th>ratings_average</th>\n",
       "            <th>ratings_count</th>\n",
       "            <th>url</th>\n",
       "            <th>acidity</th>\n",
       "            <th>fizziness</th>\n",
       "            <th>intensity</th>\n",
       "            <th>sweetness</th>\n",
       "            <th>tannin</th>\n",
       "            <th>user_structure_count</th>\n",
       "        </tr>\n",
       "    </thead>\n",
       "    <tbody>\n",
       "        <tr>\n",
       "            <td>1651</td>\n",
       "            <td>Tenuta Tignanello 'Solaia'</td>\n",
       "            <td>31124</td>\n",
       "            <td>The Armagh Shiraz</td>\n",
       "            <td>0</td>\n",
       "            <td>444</td>\n",
       "            <td>1651</td>\n",
       "            <td>4.5</td>\n",
       "            <td>2472</td>\n",
       "            <td><a href=https://www.grandcruwijnen.nl/2018-jim-barry-the-armagh-shiraz>https://www.grandcruwijnen.nl/2018-jim-barry-the-armagh-shiraz</a></td>\n",
       "            <td>3.073255</td>\n",
       "            <td>None</td>\n",
       "            <td>4.7197027</td>\n",
       "            <td>2.1185503</td>\n",
       "            <td>3.1637821</td>\n",
       "            <td>195</td>\n",
       "        </tr>\n",
       "        <tr>\n",
       "            <td>1652</td>\n",
       "            <td>Tignanello</td>\n",
       "            <td>4656452</td>\n",
       "            <td>Colheita Porto</td>\n",
       "            <td>0</td>\n",
       "            <td>718</td>\n",
       "            <td>1652</td>\n",
       "            <td>4.4</td>\n",
       "            <td>741</td>\n",
       "            <td><a href=http://www.wijnhandeljolie.be/catalogus/wijnen/porto/quinta-do-crasto-colheita-porto-2003.html>http://www.wijnhandeljolie.be/catalogus/wijnen/porto/quinta-do-crasto-colheita-porto-2003.html</a></td>\n",
       "            <td>3.048492</td>\n",
       "            <td>None</td>\n",
       "            <td>4.646477</td>\n",
       "            <td>4.8262177</td>\n",
       "            <td>None</td>\n",
       "            <td>20</td>\n",
       "        </tr>\n",
       "        <tr>\n",
       "            <td>1471</td>\n",
       "            <td>Siepi</td>\n",
       "            <td>4801666</td>\n",
       "            <td>Lion Tamer Napa Valley Red Blend</td>\n",
       "            <td>0</td>\n",
       "            <td>25</td>\n",
       "            <td>1471</td>\n",
       "            <td>4.3</td>\n",
       "            <td>4981</td>\n",
       "            <td><a href=https://vinoscoop.be/products/copy-of-hess-allomi-vineyard-cabernet-sauvignon?_pos=1&_sid=52a21f330&_ss=r>https://vinoscoop.be/products/copy-of-hess-allomi-vineyard-cabernet-sauvignon?_pos=1&_sid=52a21f330&_ss=r</a></td>\n",
       "            <td>3.8570921</td>\n",
       "            <td>None</td>\n",
       "            <td>4.8749084</td>\n",
       "            <td>1.7046466</td>\n",
       "            <td>3.3586774</td>\n",
       "            <td>133</td>\n",
       "        </tr>\n",
       "        <tr>\n",
       "            <td>75712</td>\n",
       "            <td>Corte di Cama Sforzato di Valtellina</td>\n",
       "            <td>6795398</td>\n",
       "            <td>Raut Lagrein</td>\n",
       "            <td>0</td>\n",
       "            <td>661</td>\n",
       "            <td>75712</td>\n",
       "            <td>4.5</td>\n",
       "            <td>58</td>\n",
       "            <td><a href=https://www.seulementproduitsitaliens.be/vino/clemens-waldthaler/10688-clemens-waldthaler-raut-lagrein.html?codice=BLN043>https://www.seulementproduitsitaliens.be/vino/clemens-waldthaler/10688-clemens-waldthaler-raut-lagrein.html?codice=BLN043</a></td>\n",
       "            <td>2.935</td>\n",
       "            <td>None</td>\n",
       "            <td>4.15</td>\n",
       "            <td>1.6899999</td>\n",
       "            <td>3.175</td>\n",
       "            <td>1</td>\n",
       "        </tr>\n",
       "    </tbody>\n",
       "</table>"
      ],
      "text/plain": [
       "+-------+--------------------------------------+---------+----------------------------------+------------+-----------+-----------+-----------------+---------------+-----------------------------------------------------------------------------------------------------------------------------------------------------------------------------------------------------------------------------------------------------------------+-----------+-----------+-----------+-----------+-----------+----------------------+\n",
       "|   id  |                 name                 |   id_1  |              name_1              | is_natural | region_id | winery_id | ratings_average | ratings_count |                                                                                                                               url                                                                                                                               |  acidity  | fizziness | intensity | sweetness |   tannin  | user_structure_count |\n",
       "+-------+--------------------------------------+---------+----------------------------------+------------+-----------+-----------+-----------------+---------------+-----------------------------------------------------------------------------------------------------------------------------------------------------------------------------------------------------------------------------------------------------------------+-----------+-----------+-----------+-----------+-----------+----------------------+\n",
       "|  1651 |      Tenuta Tignanello 'Solaia'      |  31124  |        The Armagh Shiraz         |     0      |    444    |    1651   |       4.5       |      2472     |                                                            <a href=https://www.grandcruwijnen.nl/2018-jim-barry-the-armagh-shiraz>https://www.grandcruwijnen.nl/2018-jim-barry-the-armagh-shiraz</a>                                                            |  3.073255 |    None   | 4.7197027 | 2.1185503 | 3.1637821 |         195          |\n",
       "|  1652 |              Tignanello              | 4656452 |          Colheita Porto          |     0      |    718    |    1652   |       4.4       |      741      |                            <a href=http://www.wijnhandeljolie.be/catalogus/wijnen/porto/quinta-do-crasto-colheita-porto-2003.html>http://www.wijnhandeljolie.be/catalogus/wijnen/porto/quinta-do-crasto-colheita-porto-2003.html</a>                            |  3.048492 |    None   |  4.646477 | 4.8262177 |    None   |          20          |\n",
       "|  1471 |                Siepi                 | 4801666 | Lion Tamer Napa Valley Red Blend |     0      |     25    |    1471   |       4.3       |      4981     |                 <a href=https://vinoscoop.be/products/copy-of-hess-allomi-vineyard-cabernet-sauvignon?_pos=1&_sid=52a21f330&_ss=r>https://vinoscoop.be/products/copy-of-hess-allomi-vineyard-cabernet-sauvignon?_pos=1&_sid=52a21f330&_ss=r</a>                 | 3.8570921 |    None   | 4.8749084 | 1.7046466 | 3.3586774 |         133          |\n",
       "| 75712 | Corte di Cama Sforzato di Valtellina | 6795398 |           Raut Lagrein           |     0      |    661    |   75712   |       4.5       |       58      | <a href=https://www.seulementproduitsitaliens.be/vino/clemens-waldthaler/10688-clemens-waldthaler-raut-lagrein.html?codice=BLN043>https://www.seulementproduitsitaliens.be/vino/clemens-waldthaler/10688-clemens-waldthaler-raut-lagrein.html?codice=BLN043</a> |   2.935   |    None   |    4.15   | 1.6899999 |   3.175   |          1           |\n",
       "+-------+--------------------------------------+---------+----------------------------------+------------+-----------+-----------+-----------------+---------------+-----------------------------------------------------------------------------------------------------------------------------------------------------------------------------------------------------------------------------------------------------------------+-----------+-----------+-----------+-----------+-----------+----------------------+"
      ]
     },
     "execution_count": 26,
     "metadata": {},
     "output_type": "execute_result"
    }
   ],
   "source": [
    "%%sql\n",
    "\n",
    "SELECT *\n",
    "FROM\n",
    "    wineries\n",
    "JOIN\n",
    "    wines ON wineries.id = wines.winery_id"
   ]
  },
  {
   "cell_type": "code",
   "execution_count": 29,
   "metadata": {},
   "outputs": [
    {
     "data": {
      "text/html": [
       "<span style=\"None\">Running query in &#x27;sqlite:///db/vivino.db&#x27;</span>"
      ],
      "text/plain": [
       "Running query in 'sqlite:///db/vivino.db'"
      ]
     },
     "metadata": {},
     "output_type": "display_data"
    },
    {
     "data": {
      "text/html": [
       "<table>\n",
       "    <thead>\n",
       "        <tr>\n",
       "            <th>name</th>\n",
       "        </tr>\n",
       "    </thead>\n",
       "    <tbody>\n",
       "        <tr>\n",
       "            <td>Brut Champagne</td>\n",
       "        </tr>\n",
       "        <tr>\n",
       "            <td>Grande Cuvée</td>\n",
       "        </tr>\n",
       "        <tr>\n",
       "            <td>Comtes de Champagne Blanc de Blancs</td>\n",
       "        </tr>\n",
       "        <tr>\n",
       "            <td>La Grande Année Brut Champagne</td>\n",
       "        </tr>\n",
       "        <tr>\n",
       "            <td>Cristal Brut Champagne (Millésimé)</td>\n",
       "        </tr>\n",
       "        <tr>\n",
       "            <td>Brut Cuvée Champagne Rosé</td>\n",
       "        </tr>\n",
       "        <tr>\n",
       "            <td>Costasera Amarone della Valpolicella Classico</td>\n",
       "        </tr>\n",
       "        <tr>\n",
       "            <td>Vintage</td>\n",
       "        </tr>\n",
       "        <tr>\n",
       "            <td>Sir Winston Churchill Brut Champagne</td>\n",
       "        </tr>\n",
       "        <tr>\n",
       "            <td>Tignanello</td>\n",
       "        </tr>\n",
       "    </tbody>\n",
       "</table>"
      ],
      "text/plain": [
       "+-----------------------------------------------+\n",
       "|                      name                     |\n",
       "+-----------------------------------------------+\n",
       "|                 Brut Champagne                |\n",
       "|                  Grande Cuvée                 |\n",
       "|      Comtes de Champagne Blanc de Blancs      |\n",
       "|         La Grande Année Brut Champagne        |\n",
       "|       Cristal Brut Champagne (Millésimé)      |\n",
       "|           Brut Cuvée Champagne Rosé           |\n",
       "| Costasera Amarone della Valpolicella Classico |\n",
       "|                    Vintage                    |\n",
       "|      Sir Winston Churchill Brut Champagne     |\n",
       "|                   Tignanello                  |\n",
       "+-----------------------------------------------+"
      ]
     },
     "execution_count": 29,
     "metadata": {},
     "output_type": "execute_result"
    }
   ],
   "source": [
    "%%sql\n",
    "\n",
    "SELECT DISTINCT\n",
    "    wines.name\n",
    "FROM\n",
    "    wines\n",
    "JOIN\n",
    "    keywords_wine ON wine_id = wines.id,\n",
    "    keywords ON keywords.id = keywords_wine.keyword_id\n",
    "WHERE\n",
    "    keywords.name IN ('coffee', 'toast', 'green apple', 'cream', 'citrus')\n",
    "AND\n",
    "    keywords_wine.count >= 10\n",
    "ORDER BY\n",
    "    keywords_wine.count DESC\n",
    "LIMIT 10;"
   ]
  },
  {
   "cell_type": "code",
   "execution_count": 39,
   "metadata": {},
   "outputs": [
    {
     "data": {
      "text/html": [
       "<span style=\"None\">Running query in &#x27;sqlite:///db/vivino.db&#x27;</span>"
      ],
      "text/plain": [
       "Running query in 'sqlite:///db/vivino.db'"
      ]
     },
     "metadata": {},
     "output_type": "display_data"
    },
    {
     "data": {
      "text/html": [
       "<table>\n",
       "    <thead>\n",
       "        <tr>\n",
       "            <th>name</th>\n",
       "            <th>count</th>\n",
       "        </tr>\n",
       "    </thead>\n",
       "    <tbody>\n",
       "        <tr>\n",
       "            <td>Cabernet Sauvignon</td>\n",
       "            <td>12</td>\n",
       "        </tr>\n",
       "        <tr>\n",
       "            <td>Merlot</td>\n",
       "            <td>11</td>\n",
       "        </tr>\n",
       "        <tr>\n",
       "            <td>Chardonnay</td>\n",
       "            <td>6</td>\n",
       "        </tr>\n",
       "    </tbody>\n",
       "</table>"
      ],
      "text/plain": [
       "+--------------------+-------+\n",
       "|        name        | count |\n",
       "+--------------------+-------+\n",
       "| Cabernet Sauvignon |   12  |\n",
       "|       Merlot       |   11  |\n",
       "|     Chardonnay     |   6   |\n",
       "+--------------------+-------+"
      ]
     },
     "execution_count": 39,
     "metadata": {},
     "output_type": "execute_result"
    }
   ],
   "source": [
    "%%sql\n",
    "\n",
    "SELECT\n",
    "    grapes.name,\n",
    "    COUNT(grapes.id) AS count\n",
    "FROM\n",
    "    grapes\n",
    "JOIN \n",
    "    most_used_grapes_per_country ON grapes.id = most_used_grapes_per_country.grape_id\n",
    "GROUP BY\n",
    "    grapes.id\n",
    "ORDER BY\n",
    "    count DESC\n",
    "LIMIT 3;\n"
   ]
  },
  {
   "cell_type": "code",
   "execution_count": null,
   "metadata": {},
   "outputs": [],
   "source": [
    "%%sql\n",
    "\n",
    "SELECT\n",
    "    wines.name,\n",
    "    wines.ratings_average\n",
    "FROM\n",
    "    wines\n",
    "JOIN\n"
   ]
  }
 ],
 "metadata": {
  "kernelspec": {
   "display_name": "SQL",
   "language": "python",
   "name": "python3"
  },
  "language_info": {
   "codemirror_mode": {
    "name": "ipython",
    "version": 3
   },
   "file_extension": ".py",
   "mimetype": "text/x-python",
   "name": "python",
   "nbconvert_exporter": "python",
   "pygments_lexer": "ipython3",
   "version": "3.12.4"
  }
 },
 "nbformat": 4,
 "nbformat_minor": 2
}
